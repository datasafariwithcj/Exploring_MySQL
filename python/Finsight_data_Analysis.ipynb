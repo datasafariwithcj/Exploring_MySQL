{
 "cells": [
  {
   "cell_type": "code",
   "execution_count": 1,
   "id": "24e91beb",
   "metadata": {},
   "outputs": [],
   "source": [
    "import pandas as pd"
   ]
  },
  {
   "cell_type": "code",
   "execution_count": 2,
   "id": "4b9993e3",
   "metadata": {},
   "outputs": [],
   "source": [
    "accounts = pd.read_csv('accounts.csv')\n",
    "currencies = pd.read_csv('currencies.csv')\n",
    "customers = pd.read_csv('customers.csv')\n",
    "transactions = pd.read_csv('transactions.csv')"
   ]
  },
  {
   "cell_type": "markdown",
   "id": "373a9bf4",
   "metadata": {},
   "source": [
    "How many customers are there in finsight?"
   ]
  },
  {
   "cell_type": "code",
   "execution_count": 3,
   "id": "e86ab4fd",
   "metadata": {},
   "outputs": [
    {
     "name": "stdout",
     "output_type": "stream",
     "text": [
      "Total number of Finsight customers:  1000\n"
     ]
    }
   ],
   "source": [
    "print(\"Total number of Finsight customers: \", customers.shape[0])"
   ]
  },
  {
   "cell_type": "markdown",
   "id": "2afe48ba",
   "metadata": {},
   "source": [
    "How many customers are in active status?"
   ]
  },
  {
   "cell_type": "code",
   "execution_count": 4,
   "id": "6f50caab",
   "metadata": {},
   "outputs": [
    {
     "name": "stdout",
     "output_type": "stream",
     "text": [
      "Active customers:  1000\n"
     ]
    }
   ],
   "source": [
    "print('Active customers: ', len(customers[customers['status'] == 'active']))"
   ]
  },
  {
   "cell_type": "markdown",
   "id": "7a4a3402",
   "metadata": {},
   "source": [
    "How many customers do not have email address?"
   ]
  },
  {
   "cell_type": "code",
   "execution_count": 5,
   "id": "5d158bc3",
   "metadata": {},
   "outputs": [
    {
     "name": "stdout",
     "output_type": "stream",
     "text": [
      "Customers without email address: 0\n"
     ]
    }
   ],
   "source": [
    "print('Customers without email address:', customers['email'].isnull().sum() + (customers['email'].str.strip() == '').sum())"
   ]
  },
  {
   "cell_type": "markdown",
   "id": "e05e1d17",
   "metadata": {},
   "source": [
    "How many accounts are there of each account type, and what’s the average balance for each type?"
   ]
  },
  {
   "cell_type": "code",
   "execution_count": 16,
   "id": "1923222a",
   "metadata": {},
   "outputs": [
    {
     "data": {
      "application/vnd.microsoft.datawrangler.viewer.v0+json": {
       "columns": [
        {
         "name": "account_type",
         "rawType": "object",
         "type": "string"
        },
        {
         "name": "num_accounts",
         "rawType": "int64",
         "type": "integer"
        },
        {
         "name": "average_balance",
         "rawType": "float64",
         "type": "float"
        }
       ],
       "ref": "89325792-3fdf-4a45-b3c2-557bff767b0e",
       "rows": [
        [
         "checking",
         "477",
         "0.0"
        ],
        [
         "investment",
         "510",
         "0.0"
        ],
        [
         "loan",
         "525",
         "0.0"
        ],
        [
         "savings",
         "522",
         "0.0"
        ]
       ],
       "shape": {
        "columns": 2,
        "rows": 4
       }
      },
      "text/html": [
       "<div>\n",
       "<style scoped>\n",
       "    .dataframe tbody tr th:only-of-type {\n",
       "        vertical-align: middle;\n",
       "    }\n",
       "\n",
       "    .dataframe tbody tr th {\n",
       "        vertical-align: top;\n",
       "    }\n",
       "\n",
       "    .dataframe thead th {\n",
       "        text-align: right;\n",
       "    }\n",
       "</style>\n",
       "<table border=\"1\" class=\"dataframe\">\n",
       "  <thead>\n",
       "    <tr style=\"text-align: right;\">\n",
       "      <th></th>\n",
       "      <th>num_accounts</th>\n",
       "      <th>average_balance</th>\n",
       "    </tr>\n",
       "    <tr>\n",
       "      <th>account_type</th>\n",
       "      <th></th>\n",
       "      <th></th>\n",
       "    </tr>\n",
       "  </thead>\n",
       "  <tbody>\n",
       "    <tr>\n",
       "      <th>checking</th>\n",
       "      <td>477</td>\n",
       "      <td>0.0</td>\n",
       "    </tr>\n",
       "    <tr>\n",
       "      <th>investment</th>\n",
       "      <td>510</td>\n",
       "      <td>0.0</td>\n",
       "    </tr>\n",
       "    <tr>\n",
       "      <th>loan</th>\n",
       "      <td>525</td>\n",
       "      <td>0.0</td>\n",
       "    </tr>\n",
       "    <tr>\n",
       "      <th>savings</th>\n",
       "      <td>522</td>\n",
       "      <td>0.0</td>\n",
       "    </tr>\n",
       "  </tbody>\n",
       "</table>\n",
       "</div>"
      ],
      "text/plain": [
       "              num_accounts  average_balance\n",
       "account_type                               \n",
       "checking               477              0.0\n",
       "investment             510              0.0\n",
       "loan                   525              0.0\n",
       "savings                522              0.0"
      ]
     },
     "execution_count": 16,
     "metadata": {},
     "output_type": "execute_result"
    }
   ],
   "source": [
    "accounts.groupby(by= 'account_type')['balance'].agg(['count', 'mean']).rename(columns={'count': 'num_accounts', 'mean': 'average_balance'})"
   ]
  }
 ],
 "metadata": {
  "kernelspec": {
   "display_name": "Python 3",
   "language": "python",
   "name": "python3"
  },
  "language_info": {
   "codemirror_mode": {
    "name": "ipython",
    "version": 3
   },
   "file_extension": ".py",
   "mimetype": "text/x-python",
   "name": "python",
   "nbconvert_exporter": "python",
   "pygments_lexer": "ipython3",
   "version": "3.13.5"
  }
 },
 "nbformat": 4,
 "nbformat_minor": 5
}
