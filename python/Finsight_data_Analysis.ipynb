{
 "cells": [
  {
   "cell_type": "code",
   "execution_count": 2,
   "id": "24e91beb",
   "metadata": {},
   "outputs": [],
   "source": [
    "import pandas as pd"
   ]
  },
  {
   "cell_type": "code",
   "execution_count": 3,
   "id": "4b9993e3",
   "metadata": {},
   "outputs": [],
   "source": [
    "accounts = pd.read_csv('accounts.csv')\n",
    "currencies = pd.read_csv('currencies.csv')\n",
    "customers = pd.read_csv('customers.csv')\n",
    "transactions = pd.read_csv('transactions.csv')"
   ]
  },
  {
   "cell_type": "markdown",
   "id": "373a9bf4",
   "metadata": {},
   "source": [
    "How many customers are there in finsight?"
   ]
  },
  {
   "cell_type": "code",
   "execution_count": 4,
   "id": "e86ab4fd",
   "metadata": {},
   "outputs": [
    {
     "name": "stdout",
     "output_type": "stream",
     "text": [
      "Total number of Finsight customers:  1000\n"
     ]
    }
   ],
   "source": [
    "print(\"Total number of Finsight customers: \", customers.shape[0])"
   ]
  },
  {
   "cell_type": "markdown",
   "id": "2afe48ba",
   "metadata": {},
   "source": [
    "How many customers are in active status?"
   ]
  },
  {
   "cell_type": "code",
   "execution_count": 5,
   "id": "6f50caab",
   "metadata": {},
   "outputs": [
    {
     "name": "stdout",
     "output_type": "stream",
     "text": [
      "Active customers:  1000\n"
     ]
    }
   ],
   "source": [
    "print('Active customers: ', len(customers[customers['status'] == 'active']))"
   ]
  },
  {
   "cell_type": "markdown",
   "id": "7a4a3402",
   "metadata": {},
   "source": [
    "How many customers do not have email address?"
   ]
  },
  {
   "cell_type": "code",
   "execution_count": 6,
   "id": "5d158bc3",
   "metadata": {},
   "outputs": [
    {
     "name": "stdout",
     "output_type": "stream",
     "text": [
      "Customers without email address: 0\n"
     ]
    }
   ],
   "source": [
    "print('Customers without email address:', customers['email'].isnull().sum() + (customers['email'].str.strip() == '').sum())"
   ]
  },
  {
   "cell_type": "markdown",
   "id": "e05e1d17",
   "metadata": {},
   "source": [
    "How many accounts are there of each account type, and what’s the average balance for each type?"
   ]
  },
  {
   "cell_type": "code",
   "execution_count": 36,
   "id": "6fc556ac",
   "metadata": {},
   "outputs": [
    {
     "data": {
      "application/vnd.microsoft.datawrangler.viewer.v0+json": {
       "columns": [
        {
         "name": "account_type",
         "rawType": "object",
         "type": "string"
        },
        {
         "name": "amount",
         "rawType": "float64",
         "type": "float"
        }
       ],
       "ref": "762ed010-34b0-4d55-ac66-7559f485f06d",
       "rows": [
        [
         "savings",
         "4663.975957854406"
        ],
        [
         "checking",
         "4440.956834381552"
        ],
        [
         "investment",
         "4306.4221568627445"
        ],
        [
         "loan",
         "3947.380114285714"
        ]
       ],
       "shape": {
        "columns": 1,
        "rows": 4
       }
      },
      "text/html": [
       "<div>\n",
       "<style scoped>\n",
       "    .dataframe tbody tr th:only-of-type {\n",
       "        vertical-align: middle;\n",
       "    }\n",
       "\n",
       "    .dataframe tbody tr th {\n",
       "        vertical-align: top;\n",
       "    }\n",
       "\n",
       "    .dataframe thead th {\n",
       "        text-align: right;\n",
       "    }\n",
       "</style>\n",
       "<table border=\"1\" class=\"dataframe\">\n",
       "  <thead>\n",
       "    <tr style=\"text-align: right;\">\n",
       "      <th></th>\n",
       "      <th>amount</th>\n",
       "    </tr>\n",
       "    <tr>\n",
       "      <th>account_type</th>\n",
       "      <th></th>\n",
       "    </tr>\n",
       "  </thead>\n",
       "  <tbody>\n",
       "    <tr>\n",
       "      <th>savings</th>\n",
       "      <td>4663.975958</td>\n",
       "    </tr>\n",
       "    <tr>\n",
       "      <th>checking</th>\n",
       "      <td>4440.956834</td>\n",
       "    </tr>\n",
       "    <tr>\n",
       "      <th>investment</th>\n",
       "      <td>4306.422157</td>\n",
       "    </tr>\n",
       "    <tr>\n",
       "      <th>loan</th>\n",
       "      <td>3947.380114</td>\n",
       "    </tr>\n",
       "  </tbody>\n",
       "</table>\n",
       "</div>"
      ],
      "text/plain": [
       "                   amount\n",
       "account_type             \n",
       "savings       4663.975958\n",
       "checking      4440.956834\n",
       "investment    4306.422157\n",
       "loan          3947.380114"
      ]
     },
     "execution_count": 36,
     "metadata": {},
     "output_type": "execute_result"
    }
   ],
   "source": [
    "balances_from_tx = transactions.groupby(by='account_id')['amount'].sum().reset_index()\n",
    "accounts_with_bal = accounts.merge(balances_from_tx, on='account_id', how='left')\n",
    "average_balance_by_type = accounts_with_bal.groupby('account_type')['amount'].mean()\n",
    "pd.DataFrame(average_balance_by_type).sort_values(by= 'amount', ascending= False)"
   ]
  }
 ],
 "metadata": {
  "kernelspec": {
   "display_name": "Python 3",
   "language": "python",
   "name": "python3"
  },
  "language_info": {
   "codemirror_mode": {
    "name": "ipython",
    "version": 3
   },
   "file_extension": ".py",
   "mimetype": "text/x-python",
   "name": "python",
   "nbconvert_exporter": "python",
   "pygments_lexer": "ipython3",
   "version": "3.13.5"
  }
 },
 "nbformat": 4,
 "nbformat_minor": 5
}
